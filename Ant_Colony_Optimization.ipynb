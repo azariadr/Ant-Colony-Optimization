{
  "nbformat": 4,
  "nbformat_minor": 0,
  "metadata": {
    "colab": {
      "provenance": []
    },
    "kernelspec": {
      "name": "python3",
      "display_name": "Python 3"
    },
    "language_info": {
      "name": "python"
    }
  },
  "cells": [
    {
      "cell_type": "code",
      "source": [
        "import numpy as np\n",
        "from numpy import inf"
      ],
      "metadata": {
        "id": "PXGXQYHdqS5w"
      },
      "execution_count": 1,
      "outputs": []
    },
    {
      "cell_type": "code",
      "source": [
        "#given values for the problems\n",
        "\n",
        "d = np.array([[0,10,12,11,14]\n",
        "          ,[10,0,13,15,8]\n",
        "          ,[12,13,0,9,14]\n",
        "          ,[11,15,9,0,16]\n",
        "          ,[14,8,14,16,0]])\n",
        "\n",
        "\n",
        "iteration = 100\n",
        "n_ants = 5\n",
        "n_citys = 5"
      ],
      "metadata": {
        "id": "fSlxPK5qqdr2"
      },
      "execution_count": 2,
      "outputs": []
    },
    {
      "cell_type": "code",
      "source": [
        "# intialization part\n",
        "\n",
        "m = n_ants\n",
        "n = n_citys\n",
        "e = .5         #evaporation rate\n",
        "alpha = 1     #pheromone factor\n",
        "beta = 2       #visibility factor"
      ],
      "metadata": {
        "id": "3plvxBvaqmAW"
      },
      "execution_count": 3,
      "outputs": []
    },
    {
      "cell_type": "code",
      "source": [
        "#calculating the visibility of the next city visibility(i,j)=1/d(i,j)\n",
        "\n",
        "visibility = 1/d\n",
        "visibility[visibility == inf ] = 0"
      ],
      "metadata": {
        "colab": {
          "base_uri": "https://localhost:8080/"
        },
        "id": "y9k3fWrDqpmv",
        "outputId": "755b4889-22aa-410e-c8dc-99c3ead7eee6"
      },
      "execution_count": 4,
      "outputs": [
        {
          "output_type": "stream",
          "name": "stderr",
          "text": [
            "<ipython-input-4-fc75c04881fd>:3: RuntimeWarning: divide by zero encountered in divide\n",
            "  visibility = 1/d\n"
          ]
        }
      ]
    },
    {
      "cell_type": "code",
      "source": [
        "#intializing pheromne present at the paths to the cities\n",
        "\n",
        "pheromne = .1*np.ones((m,n))"
      ],
      "metadata": {
        "id": "Am9pnnVLqtr9"
      },
      "execution_count": 5,
      "outputs": []
    },
    {
      "cell_type": "code",
      "execution_count": 6,
      "metadata": {
        "colab": {
          "base_uri": "https://localhost:8080/"
        },
        "id": "ZMiOILqFg1be",
        "outputId": "480d85c9-51cc-4abb-c809-32c6efa68ed8"
      },
      "outputs": [
        {
          "output_type": "stream",
          "name": "stdout",
          "text": [
            "route of all the ants at the end :\n",
            "[[1 2 5 4 3 1]\n",
            " [1 2 5 4 3 1]\n",
            " [1 2 5 4 3 1]\n",
            " [1 2 5 4 3 1]\n",
            " [1 2 5 4 3 1]]\n",
            "\n",
            "best path : [1 2 5 4 3 1]\n",
            "cost of the best path 55\n"
          ]
        },
        {
          "output_type": "stream",
          "name": "stderr",
          "text": [
            "<ipython-input-6-a00f17c2e618>:68: DeprecationWarning: Conversion of an array with ndim > 0 to a scalar is deprecated, and will error in future. Ensure you extract a single element from your array before performing this operation. (Deprecated NumPy 1.25.)\n",
            "  pheromne[int(rute_opt[i,j])-1,int(rute_opt[i,j+1])-1] = pheromne[int(rute_opt[i,j])-1,int(rute_opt[i,j+1])-1] + dt\n"
          ]
        }
      ],
      "source": [
        "#intializing the rute of the ants with size rute(n_ants,n_citys+1)\n",
        "#note adding 1 because we want to come back to the source city\n",
        "\n",
        "rute = np.ones((m, n + 1), dtype=int)\n",
        "rute[:, 0] = 1\n",
        "\n",
        "for ite in range(iteration):\n",
        "    for i in range(m):\n",
        "        temp_visibility = np.array(visibility)         #creating a copy of visibility\n",
        "\n",
        "        for j in range(n-1):\n",
        "            #print(rute)\n",
        "\n",
        "            combine_feature = np.zeros(5)     #intializing combine_feature array to zero\n",
        "            cum_prob = np.zeros(5)            #intializing cummulative probability array to zeros\n",
        "\n",
        "            cur_loc = int(rute[i,j]-1)        #current city of the ant\n",
        "\n",
        "            temp_visibility[:,cur_loc] = 0     #making visibility of the current city as zero\n",
        "\n",
        "            p_feature = np.power(pheromne[cur_loc,:],beta)         #calculating pheromne feature\n",
        "            v_feature = np.power(temp_visibility[cur_loc,:],alpha)  #calculating visibility feature\n",
        "\n",
        "            p_feature = p_feature[:,np.newaxis]                     #adding axis to make a size[5,1]\n",
        "            v_feature = v_feature[:,np.newaxis]                     #adding axis to make a size[5,1]\n",
        "\n",
        "            combine_feature = np.multiply(p_feature,v_feature)     #calculating the combine feature\n",
        "\n",
        "            total = np.sum(combine_feature)                        #sum of all the feature\n",
        "\n",
        "            probs = combine_feature/total   #finding probability of element probs(i) = comine_feature(i)/total\n",
        "\n",
        "            cum_prob = np.cumsum(probs)     #calculating cummulative sum\n",
        "            #print(cum_prob)\n",
        "            r = np.random.random_sample()   #randon no in [0,1)\n",
        "            #print(r)\n",
        "            city = np.nonzero(cum_prob>r)[0][0]+1       #finding the next city having probability higher then random(r)\n",
        "            #print(city)\n",
        "\n",
        "            rute[i,j+1] = city              #adding city to route\n",
        "\n",
        "        left = list(set([i for i in range(1,n+1)])-set(rute[i,:-2]))[0]     #finding the last untraversed city to route\n",
        "\n",
        "        rute[i,-2] = left                   #adding untraversed city to route\n",
        "\n",
        "    rute_opt = np.array(rute)               #intializing optimal route\n",
        "\n",
        "    dist_cost = np.zeros((m,1))             #intializing total_distance_of_tour with zero\n",
        "\n",
        "    for i in range(m):\n",
        "\n",
        "        s = 0\n",
        "        for j in range(n-1):\n",
        "\n",
        "            s = s + d[int(rute_opt[i,j])-1,int(rute_opt[i,j+1])-1]   #calcualting total tour distance\n",
        "\n",
        "        dist_cost[i]=s                      #storing distance of tour for 'i'th ant at location 'i'\n",
        "\n",
        "    dist_min_loc = np.argmin(dist_cost)             #finding location of minimum of dist_cost\n",
        "    dist_min_cost = dist_cost[dist_min_loc]         #finging min of dist_cost\n",
        "\n",
        "    best_route = rute[dist_min_loc,:]               #intializing current traversed as best route\n",
        "    pheromne = (1-e)*pheromne                       #evaporation of pheromne with (1-e)\n",
        "\n",
        "    for i in range(m):\n",
        "        for j in range(n-1):\n",
        "            dt = 1/dist_cost[i]\n",
        "            pheromne[int(rute_opt[i,j])-1,int(rute_opt[i,j+1])-1] = pheromne[int(rute_opt[i,j])-1,int(rute_opt[i,j+1])-1] + dt\n",
        "            #updating the pheromne with delta_distance\n",
        "            #delta_distance will be more with min_dist i.e adding more weight to that route  peromne\n",
        "\n",
        "print('route of all the ants at the end :')\n",
        "print(rute_opt)\n",
        "print()\n",
        "print('best path :',best_route)\n",
        "print('cost of the best path',int(dist_min_cost[0]) + d[int(best_route[-2])-1,0])"
      ]
    }
  ]
}